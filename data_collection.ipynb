{
 "cells": [
  {
   "cell_type": "code",
   "execution_count": null,
   "metadata": {},
   "outputs": [],
   "source": [
    "import numpy as np\n",
    "import twint\n",
    "import matplotlib.pyplot as plt\n",
    "import pandas as pd\n",
    "import re\n",
    "from random import randrange\n",
    "\n",
    "from vaderSentiment.vaderSentiment import SentimentIntensityAnalyzer\n",
    "\n",
    "import nest_asyncio\n",
    "nest_asyncio.apply()\n",
    "\n",
    "import nltk\n",
    "nltk.download(['stopwords'])\n",
    "from nltk.corpus import stopwords\n",
    "stopwords = stopwords.words('english')\n",
    "import itertools, collections\n",
    "from nltk import bigrams"
   ]
  },
  {
   "cell_type": "code",
   "execution_count": null,
   "metadata": {},
   "outputs": [],
   "source": [
    "def read_tweets(search_text, year, tweet_filter, file_name, limit_for_month = 1000):\n",
    "    \n",
    "    print('=======================================')\n",
    "    print(' '.join(['Searching for the term', search_text, 'in', year]))\n",
    "    \n",
    "    config = twint.Config()\n",
    "    config.Search = search_text\n",
    "    config.Lang = 'en'\n",
    "    config.Limit = limit_for_month\n",
    "    config.Store_csv = True\n",
    "    config.Show_hashtags = True\n",
    "    config.Output = file_name + year + '.csv'\n",
    "    if (int(year) >= 2013 and tweet_filter):\n",
    "        config.Min_likes = 1\n",
    "    if (int(year) >= 2019 and tweet_filter):\n",
    "        config.Min_replies = 1\n",
    "    config.Geo = '39,-98,2400km'\n",
    "    config.Popular_tweets = True\n",
    "    config.Count = True\n",
    "    config.Hide_output = True\n",
    "    \n",
    "    months = [f\"{x:02d}\" for x in range(1, 13)]\n",
    "\n",
    "    since_list = ['-'.join([year, month, '1']) for month in months]\n",
    "    until_list = ['-'.join([year, month, '28']) for month in months]\n",
    "\n",
    "    since_until_list = list(zip(since_list, until_list))\n",
    "    \n",
    "    for (since, until) in since_until_list:\n",
    "        config.Since = since\n",
    "        config.Until = until\n",
    "        twint.run.Search(config)"
   ]
  },
  {
   "cell_type": "code",
   "execution_count": null,
   "metadata": {},
   "outputs": [],
   "source": [
    "def read_yearly_tweets(years, tweet_filter, search_terms, file_name):\n",
    "    for year in years:\n",
    "        for search_term in search_terms: \n",
    "            read_tweets(search_term, year, tweet_filter, file_name, 1000)"
   ]
  },
  {
   "cell_type": "code",
   "execution_count": null,
   "metadata": {},
   "outputs": [],
   "source": [
    "years = [f\"{x:02d}\" for x in range(2010, 2021)]\n",
    "search_terms = ['Cannabis', 'Ganja', 'Marijuana']\n",
    "file_name = 'cannabis/Cannabis'\n",
    "\n",
    "#years = [f\"{x:02d}\" for x in range(2013, 2020)]\n",
    "#search_terms = ['smoking cigarettes', 'tobacco']\n",
    "#file_name = 'tobacco/Tobacco'"
   ]
  },
  {
   "cell_type": "code",
   "execution_count": null,
   "metadata": {},
   "outputs": [],
   "source": [
    "read_yearly_tweets(years, True, search_terms, file_name)"
   ]
  },
  {
   "cell_type": "code",
   "execution_count": null,
   "metadata": {},
   "outputs": [],
   "source": [
    "def read_users_data(years, file_name):\n",
    "    for year in years:\n",
    "        df_full = pd.read_csv(file_name + year + '.csv')\n",
    "        df_u = df_full[['user_id']]\n",
    "        df_u.drop_duplicates()\n",
    "        user_ids = df_u.sample(1000)['user_id'].tolist()\n",
    "        \n",
    "        for i, user_id in enumerate(user_ids):\n",
    "            if i % 20 == 0: print('========= (' + year + ') Step number: ' + str(i) + ' =========')\n",
    "            config = twint.Config()\n",
    "            config.Store_csv = True\n",
    "            config.Output = 'Users' + file_name + year + '.csv'\n",
    "            config.Hide_output = True\n",
    "            config.User_id = user_id\n",
    "            twint.run.Lookup(config)"
   ]
  },
  {
   "cell_type": "code",
   "execution_count": null,
   "metadata": {},
   "outputs": [],
   "source": [
    "years = ['2010', '2014', '2016', '2020']\n",
    "file_name = 'Cannabis'"
   ]
  },
  {
   "cell_type": "code",
   "execution_count": null,
   "metadata": {
    "scrolled": false
   },
   "outputs": [],
   "source": [
    "read_users_data(years, file_name)"
   ]
  }
 ],
 "metadata": {
  "kernelspec": {
   "display_name": "Python 3",
   "language": "python",
   "name": "python3"
  },
  "language_info": {
   "codemirror_mode": {
    "name": "ipython",
    "version": 3
   },
   "file_extension": ".py",
   "mimetype": "text/x-python",
   "name": "python",
   "nbconvert_exporter": "python",
   "pygments_lexer": "ipython3",
   "version": "3.8.3"
  }
 },
 "nbformat": 4,
 "nbformat_minor": 4
}
