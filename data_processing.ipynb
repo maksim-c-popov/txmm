{
 "cells": [
  {
   "cell_type": "code",
   "execution_count": 1,
   "metadata": {},
   "outputs": [
    {
     "name": "stderr",
     "output_type": "stream",
     "text": [
      "[nltk_data] Downloading package stopwords to\n",
      "[nltk_data]     C:\\Users\\popov\\AppData\\Roaming\\nltk_data...\n",
      "[nltk_data]   Package stopwords is already up-to-date!\n"
     ]
    }
   ],
   "source": [
    "import numpy as np\n",
    "import twint\n",
    "import matplotlib.pyplot as plt\n",
    "import pandas as pd\n",
    "import re\n",
    "from random import randrange\n",
    "\n",
    "from vaderSentiment.vaderSentiment import SentimentIntensityAnalyzer\n",
    "\n",
    "import nest_asyncio\n",
    "nest_asyncio.apply()\n",
    "\n",
    "import nltk\n",
    "nltk.download(['stopwords'])\n",
    "from nltk.corpus import stopwords\n",
    "stopwords = stopwords.words('english')\n",
    "import itertools, collections\n",
    "from nltk import bigrams"
   ]
  },
  {
   "cell_type": "code",
   "execution_count": 2,
   "metadata": {},
   "outputs": [],
   "source": [
    "gallup_tobacco_data = [19, 21, 19, 19, 17, 16, 15]\n",
    "gallup_cannabis_data = [44, 50, 46, 58, 52, 58, 60, 64, 66, 64, 68]"
   ]
  },
  {
   "cell_type": "code",
   "execution_count": 3,
   "metadata": {},
   "outputs": [],
   "source": [
    "years = [f\"{x:02d}\" for x in range(2010, 2021)]\n",
    "search_terms = ['Cannabis', 'Ganja', 'Marijuana']\n",
    "file_name = 'cannabis/Cannabis'\n",
    "\n",
    "#years = [f\"{x:02d}\" for x in range(2013, 2020)]\n",
    "#search_terms = ['smoking cigarettes', 'tobacco']\n",
    "#file_name = 'tobacco/Tobacco'"
   ]
  },
  {
   "cell_type": "code",
   "execution_count": 4,
   "metadata": {},
   "outputs": [],
   "source": [
    "def get_yearly_statistics(year, file_name):\n",
    "\n",
    "    df_all = pd.read_csv(file_name + year + '.csv')\n",
    "    df_all.drop(['conversation_id', 'created_at', 'time', 'timezone', 'user_id', 'username', 'name', 'place', 'mentions', 'urls', 'photos', 'cashtags', 'link', 'retweet', 'quote_url', 'video', 'user_rt_id', 'near', 'geo', 'thumbnail', 'language', 'source', 'user_rt', 'retweet_id', 'reply_to', 'retweet_date', 'translate', 'trans_src', 'trans_dest'], axis = 1, inplace = True)\n",
    "\n",
    "    additional_symbols = ['via', '(via', '-', 'rt', '\"', '“', '@', '::']\n",
    "    \n",
    "    df_all['clean'] = df_all['tweet'] \\\n",
    "        .apply(lambda x: re.sub(r\"(?:\\@|https?\\://)\\S+\", \"\", x)) \\\n",
    "        .apply(lambda x: ' '.join([item for item in x.lower().split() if item not in stopwords and item not in additional_symbols]))\n",
    "\n",
    "    df = df_all.drop_duplicates('clean').sort_index()\n",
    "    df['shop'] = df['hashtags'].apply(lambda x: 'shop' in x)\n",
    "    res_df = df[df['shop'] == False]\n",
    "\n",
    "    analyzer = SentimentIntensityAnalyzer()\n",
    "    res_df['vader_score'] = res_df['clean'].apply(lambda x: analyzer.polarity_scores(x)['compound'])\n",
    "\n",
    "    pos_num = len(res_df[res_df['vader_score'] >= 0.05])\n",
    "    neg_num = len(res_df[res_df['vader_score'] <= -0.05])\n",
    "    \n",
    "    #return pos_num/len(res_df) * 100\n",
    "    return pos_num/(pos_num + neg_num) * 100"
   ]
  },
  {
   "cell_type": "code",
   "execution_count": 5,
   "metadata": {},
   "outputs": [
    {
     "name": "stderr",
     "output_type": "stream",
     "text": [
      "<ipython-input-4-af75fba2d195>:17: SettingWithCopyWarning: \n",
      "A value is trying to be set on a copy of a slice from a DataFrame.\n",
      "Try using .loc[row_indexer,col_indexer] = value instead\n",
      "\n",
      "See the caveats in the documentation: https://pandas.pydata.org/pandas-docs/stable/user_guide/indexing.html#returning-a-view-versus-a-copy\n",
      "  res_df['vader_score'] = res_df['clean'].apply(lambda x: analyzer.polarity_scores(x)['compound'])\n"
     ]
    }
   ],
   "source": [
    "results = [get_yearly_statistics(year, file_name) for year in years]"
   ]
  },
  {
   "cell_type": "code",
   "execution_count": 6,
   "metadata": {
    "scrolled": true
   },
   "outputs": [
    {
     "data": {
      "image/png": "[encoded data removed]",
      "text/plain": [
       "<Figure size 432x288 with 1 Axes>"
      ]
     },
     "metadata": {
      "needs_background": "light"
     },
     "output_type": "display_data"
    },
    {
     "name": "stdout",
     "output_type": "stream",
     "text": [
      "change in total: 27.06 24\n",
      "change in last year: 3.63 4\n"
     ]
    }
   ],
   "source": [
    "plt.plot(years, results, label = \"Cannabis related tweets\")\n",
    "plt.plot(years, gallup_cannabis_data, label = \"Gallup poll about marijuana legalization\")\n",
    "\n",
    "#plt.plot(years, results, label = \"Tobacco related tweets\")\n",
    "#plt.plot(years, gallup_tobacco_data, label = \"Gallup poll 'Have you smoked recently?'\")\n",
    "\n",
    "plt.xlabel('year')\n",
    "plt.ylabel('% positive')\n",
    "axes = plt.gca()\n",
    "axes.set_ylim([0, 100])\n",
    "\n",
    "plt.rcParams[\"figure.figsize\"] = 7,5\n",
    "plt.legend()\n",
    "plt.show()\n",
    "\n",
    "print('change in total:', \"{:.2f}\".format(results[-1] - results[0]), gallup_cannabis_data[-1] - gallup_cannabis_data[0])\n",
    "print('change in last year:', \"{:.2f}\".format(results[-1] - results[-2]), gallup_cannabis_data[-1] - gallup_cannabis_data[-2])\n",
    "\n",
    "#print('change in total:', \"{:.2f}\".format(results[-1] - results[0]), gallup_tobacco_data[-1] - gallup_tobacco_data[0])"
   ]
  },
  {
   "cell_type": "code",
   "execution_count": 7,
   "metadata": {},
   "outputs": [],
   "source": [
    "years = [f\"{x:02d}\" for x in [2010, 2020]]\n",
    "file_name = 'cannabis/Cannabis'\n",
    "\n",
    "#years = [f\"{x:02d}\" for x in [2013, 2019]]\n",
    "#file_name = 'tobacco/Tobacco'"
   ]
  },
  {
   "cell_type": "code",
   "execution_count": 8,
   "metadata": {
    "scrolled": true
   },
   "outputs": [],
   "source": [
    "def get_top_bigrams(year, file_name):\n",
    "    df_all = pd.read_csv(file_name + year + '.csv') \\\n",
    "        .drop_duplicates('tweet').sort_index()\n",
    "    df_all.drop(['conversation_id', 'created_at', 'time', 'timezone', 'user_id', 'username', 'name', 'place', 'mentions', 'urls', 'photos', 'cashtags', 'link', 'retweet', 'quote_url', 'video', 'user_rt_id', 'near', 'geo', 'thumbnail', 'language', 'source', 'user_rt', 'retweet_id', 'reply_to', 'retweet_date', 'translate', 'trans_src', 'trans_dest'], axis = 1, inplace = True)\n",
    "\n",
    "    additional_symbols = ['via', '(via', '-', 'rt', '\"', '“', '@', '::']\n",
    "\n",
    "    df_all['clean'] = df_all['tweet'] \\\n",
    "        .apply(lambda x: re.sub(r\"(?:\\@|https?\\://)\\S+\", \"\", x)) \\\n",
    "        .apply(lambda x: [item for item in x.lower().split() if item not in stopwords and item not in additional_symbols])\n",
    "\n",
    "    df = df_all.dropna(subset=['clean'])\n",
    "    \n",
    "    df['shop'] = df['hashtags'].apply(lambda x: 'shop' in x)\n",
    "    res_df = df[df['shop'] == False]\n",
    "\n",
    "    tweets = res_df['clean'].tolist()\n",
    "    all_bigrams = list(itertools.chain(*[list(bigrams(tweet)) for tweet in tweets]))\n",
    "    top_bigrams = [' '.join(bigram[0]) for bigram in collections.Counter(all_bigrams).most_common(9)]\n",
    "\n",
    "    return (top_bigrams)"
   ]
  },
  {
   "cell_type": "code",
   "execution_count": 9,
   "metadata": {},
   "outputs": [
    {
     "data": {
      "text/plain": [
       "[['medical marijuana',\n",
       "  'pounds marijuana',\n",
       "  'synthetic marijuana',\n",
       "  'marijuana dispensary',\n",
       "  'marijuana plants',\n",
       "  'possession marijuana',\n",
       "  'marijuana possession',\n",
       "  'traffic stop',\n",
       "  'man arrested'],\n",
       " ['medical marijuana',\n",
       "  'recreational marijuana',\n",
       "  'legalize marijuana',\n",
       "  'medical cannabis',\n",
       "  'ganja white',\n",
       "  'cannabis industry',\n",
       "  'top shelf',\n",
       "  'white night',\n",
       "  'menu snapchat::👻']]"
      ]
     },
     "execution_count": 9,
     "metadata": {},
     "output_type": "execute_result"
    }
   ],
   "source": [
    "res = [get_top_bigrams(year, file_name) for year in years]\n",
    "res"
   ]
  },
  {
   "cell_type": "code",
   "execution_count": 10,
   "metadata": {},
   "outputs": [],
   "source": [
    "years = ['2010', '2014', '2016', '2020']\n",
    "file_name = 'Cannabis'"
   ]
  },
  {
   "cell_type": "code",
   "execution_count": 11,
   "metadata": {
    "scrolled": true
   },
   "outputs": [],
   "source": [
    "def get_users_statistics(year, file_name):\n",
    "    df_users = pd.read_csv('users/Users' + file_name + year + '.csv')\n",
    "    df = df_users.drop_duplicates('id').sort_index()\n",
    "    return (len(df[df['verified'] == True]) * 100 / df['id'].count(), df['followers'].mean())"
   ]
  },
  {
   "cell_type": "code",
   "execution_count": 12,
   "metadata": {},
   "outputs": [],
   "source": [
    "verified, followers = zip(*[get_users_statistics(year, file_name) for year in years])"
   ]
  },
  {
   "cell_type": "code",
   "execution_count": 13,
   "metadata": {},
   "outputs": [
    {
     "data": {
      "image/png": "[encoded data removed]",
      "text/plain": [
       "<Figure size 504x360 with 1 Axes>"
      ]
     },
     "metadata": {
      "needs_background": "light"
     },
     "output_type": "display_data"
    }
   ],
   "source": [
    "plt.plot(years, verified)\n",
    "\n",
    "plt.xlabel('year')\n",
    "plt.ylabel('% of verified users')\n",
    "axes = plt.gca()\n",
    "axes.set_ylim([0, 9])\n",
    "plt.rcParams[\"figure.figsize\"] = 4,3\n",
    "\n",
    "plt.show()"
   ]
  },
  {
   "cell_type": "code",
   "execution_count": 14,
   "metadata": {},
   "outputs": [
    {
     "data": {
      "image/png": "[encoded data removed]",
      "text/plain": [
       "<Figure size 288x216 with 1 Axes>"
      ]
     },
     "metadata": {
      "needs_background": "light"
     },
     "output_type": "display_data"
    }
   ],
   "source": [
    "plt.plot(years, followers)\n",
    "\n",
    "plt.xlabel('year')\n",
    "plt.ylabel('average amount of followers')\n",
    "axes = plt.gca()\n",
    "axes.set_ylim([0, 7000])\n",
    "plt.rcParams[\"figure.figsize\"] = 4,3\n",
    "\n",
    "plt.show()"
   ]
  }
 ],
 "metadata": {
  "kernelspec": {
   "display_name": "Python 3",
   "language": "python",
   "name": "python3"
  },
  "language_info": {
   "codemirror_mode": {
    "name": "ipython",
    "version": 3
   },
   "file_extension": ".py",
   "mimetype": "text/x-python",
   "name": "python",
   "nbconvert_exporter": "python",
   "pygments_lexer": "ipython3",
   "version": "3.8.3"
  }
 },
 "nbformat": 4,
 "nbformat_minor": 4
}
